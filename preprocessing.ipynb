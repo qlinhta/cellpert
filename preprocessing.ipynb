{
 "cells": [
  {
   "cell_type": "code",
   "execution_count": null,
   "outputs": [],
   "source": [
    "import pandas as pd\n",
    "import dask.dataframe as dd\n",
    "import matplotlib.pyplot as plt\n",
    "from rdkit import Chem\n",
    "from rdkit.Chem import Descriptors\n",
    "from rdkit.Chem import AllChem\n",
    "plt.style.use('default')\n",
    "plt.rc('text', usetex=True)\n",
    "plt.rc('font', family='sans-serif')\n",
    "plt.rc('font', size=14)\n",
    "plt.rc('axes', titlesize=14)\n",
    "plt.rc('axes', labelsize=14)\n",
    "plt.rc('xtick', labelsize=14)\n",
    "plt.rc('ytick', labelsize=14)\n",
    "plt.rc('legend', fontsize=14)\n",
    "plt.rc('lines', markersize=10)"
   ],
   "metadata": {
    "collapsed": false
   },
   "id": "e575a71231582f6b"
  },
  {
   "cell_type": "code",
   "execution_count": null,
   "outputs": [],
   "source": [
    "de_train_dd = dd.read_parquet('datasets/de_train.parquet')\n",
    "adata_train_dd = dd.read_parquet('datasets/adata_train.parquet')\n",
    "multiome_train_dd = dd.read_parquet('datasets/multiome_train.parquet')\n",
    "\n",
    "adata_obs_meta = pd.read_csv('datasets/adata_obs_meta.csv')\n",
    "multiome_obs_meta = pd.read_csv('datasets/multiome_obs_meta.csv')\n",
    "multiome_var_meta = pd.read_csv('datasets/multiome_var_meta.csv')\n",
    "id_map = pd.read_csv('datasets/id_map.csv')\n",
    "\n",
    "de_train = de_train_dd.compute()\n",
    "adata_train = adata_train_dd.compute()\n",
    "multiome_train = multiome_train_dd.compute()"
   ],
   "metadata": {
    "collapsed": false
   },
   "id": "919d24b67a92db82"
  },
  {
   "cell_type": "code",
   "execution_count": null,
   "outputs": [],
   "source": [
    "# rename in de_train\n",
    "for i in range(len(de_train['sm_name'])):\n",
    "    if de_train['sm_name'][i] != '5-(9-Isopropyl-8-methyl-2-morpholino-9H-purin-6-yl)pyrimidin-2-amine' and de_train['sm_name'][i] != '2-(4-Amino-5-iodo-7-pyrrolo[2,3-d]pyrimidinyl)-5-(hydroxymethyl)oxolane-3,4-diol':\n",
    "        de_train['sm_name'][i] = de_train['sm_name'][i].split('(')[0].strip()\n",
    "for i in range(len(de_train['sm_name'])):\n",
    "    if de_train['sm_name'][i] != '5-(9-Isopropyl-8-methyl-2-morpholino-9H-purin-6-yl)pyrimidin-2-amine' and de_train['sm_name'][i] != '2-(4-Amino-5-iodo-7-pyrrolo[2,3-d]pyrimidinyl)-5-(hydroxymethyl)oxolane-3,4-diol':\n",
    "        de_train['sm_name'][i] = de_train['sm_name'][i].split(';')[0].strip()"
   ],
   "metadata": {
    "collapsed": false
   },
   "id": "5d0dc0e4a019aea0"
  },
  {
   "cell_type": "code",
   "execution_count": null,
   "outputs": [],
   "source": [
    "adata_train.head()"
   ],
   "metadata": {
    "collapsed": false
   },
   "id": "f1eb06d04a471c4f"
  },
  {
   "cell_type": "code",
   "execution_count": null,
   "outputs": [],
   "source": [
    "de_train.head()"
   ],
   "metadata": {
    "collapsed": false
   },
   "id": "c9002d6602dd9a5a"
  },
  {
   "cell_type": "code",
   "execution_count": null,
   "outputs": [],
   "source": [
    "features_columns = [\"cell_type\", \"sm_name\", \"sm_lincs_id\", \"SMILES\", \"control\"]\n",
    "targets = de_train.drop(columns=features_columns)\n",
    "features = pd.DataFrame(de_train, columns=features_columns)"
   ],
   "metadata": {
    "collapsed": false
   },
   "id": "d712149d38f2c34a"
  },
  {
   "cell_type": "code",
   "execution_count": null,
   "outputs": [],
   "source": [
    "features.head()"
   ],
   "metadata": {
    "collapsed": false
   },
   "id": "93446127ba886988"
  },
  {
   "cell_type": "code",
   "execution_count": null,
   "outputs": [],
   "source": [
    "targets.head()"
   ],
   "metadata": {
    "collapsed": false
   },
   "id": "1b40155c05cbe9f2"
  },
  {
   "cell_type": "code",
   "execution_count": null,
   "outputs": [],
   "source": [
    "# Plot distribution of cell types in the training data\n",
    "fig, ax = plt.subplots(1, 2, figsize=(10, 5))\n",
    "# pie chart and bar chart\n",
    "ax[0].pie(features[\"cell_type\"].value_counts(), labels=features[\"cell_type\"].value_counts().index, autopct='%1.1f%%', startangle=90, textprops={'fontsize': 14}, colors=[\"grey\", \"lightgrey\", \"darkgrey\"])\n",
    "ax[0].set_title(\"Distribution of cell types in the training data\")\n",
    "ax[1].bar(features[\"cell_type\"].value_counts().index, features[\"cell_type\"].value_counts(), edgecolor=\"black\", facecolor=\"white\", hatch=\"///\")\n",
    "ax[1].set_xlabel(\"Cell type\")\n",
    "ax[1].set_ylabel(\"Number of cells\")\n",
    "ax[1].set_title(\"Distribution of cell types in the training data\")\n",
    "plt.xticks(rotation=45)\n",
    "plt.tight_layout()\n",
    "plt.show()"
   ],
   "metadata": {
    "collapsed": false
   },
   "id": "b0b116c3d8d0df2a"
  },
  {
   "cell_type": "code",
   "execution_count": null,
   "outputs": [],
   "source": [
    "# Print column names of all datasets\n",
    "print(\"adata_train columns:\", adata_train.columns)\n",
    "print(\"multiome_train columns:\", multiome_train.columns)\n",
    "print(\"adata_obs_meta columns:\", adata_obs_meta.columns)\n",
    "print(\"multiome_obs_meta columns:\", multiome_obs_meta.columns)\n",
    "print(\"multiome_var_meta columns:\", multiome_var_meta.columns)\n",
    "print(\"id_map columns:\", id_map.columns)"
   ],
   "metadata": {
    "collapsed": false
   },
   "id": "a30ec258d6ee33b"
  },
  {
   "cell_type": "code",
   "execution_count": null,
   "outputs": [],
   "source": [
    "multiome_train.head()"
   ],
   "metadata": {
    "collapsed": false
   },
   "id": "612a20878294de09"
  },
  {
   "cell_type": "code",
   "execution_count": null,
   "outputs": [],
   "source": [
    "# Aggregating adata_train and multiome_train\n",
    "agg_func = {'count': ['mean', 'sum'], 'normalized_count': ['mean', 'sum']}\n",
    "adata_train_grouped = adata_train.groupby(['obs_id']).agg(agg_func).reset_index()\n",
    "multiome_train_grouped = multiome_train.groupby(['obs_id']).agg(agg_func).reset_index()"
   ],
   "metadata": {
    "collapsed": false
   },
   "id": "eab38c25e6b38f3e"
  },
  {
   "cell_type": "code",
   "execution_count": null,
   "outputs": [],
   "source": [
    "adata_train_grouped.head()"
   ],
   "metadata": {
    "collapsed": false
   },
   "id": "9484b51769396168"
  },
  {
   "cell_type": "code",
   "execution_count": null,
   "outputs": [],
   "source": [
    "multiome_train_grouped.head()"
   ],
   "metadata": {
    "collapsed": false
   },
   "id": "c55c8695fdf38889"
  },
  {
   "cell_type": "code",
   "execution_count": null,
   "outputs": [],
   "source": [
    "# Flatten the multi-level column names in adata_train_grouped and multiome_train_grouped\n",
    "adata_train_grouped.columns = ['_'.join(col).strip() for col in adata_train_grouped.columns.values]\n",
    "multiome_train_grouped.columns = ['_'.join(col).strip() for col in multiome_train_grouped.columns.values]\n",
    "\n",
    "# Rename the 'obs_id_' column back to 'obs_id' to make it ready for the merge\n",
    "adata_train_grouped.rename(columns={'obs_id_': 'obs_id'}, inplace=True)\n",
    "multiome_train_grouped.rename(columns={'obs_id_': 'obs_id'}, inplace=True)\n",
    "\n",
    "# Join aggregated dataframes with metadata\n",
    "adata_full = pd.merge(adata_train_grouped, adata_obs_meta, on='obs_id', how='left')\n",
    "multiome_full = pd.merge(multiome_train_grouped, multiome_obs_meta, on='obs_id', how='left')"
   ],
   "metadata": {
    "collapsed": false
   },
   "id": "da541b1cfdbfa2f0"
  },
  {
   "cell_type": "code",
   "execution_count": null,
   "outputs": [],
   "source": [
    "adata_full.head()"
   ],
   "metadata": {
    "collapsed": false
   },
   "id": "bdedefb3729f5aa1"
  },
  {
   "cell_type": "code",
   "execution_count": null,
   "outputs": [],
   "source": [
    "multiome_full.head()"
   ],
   "metadata": {
    "collapsed": false
   },
   "id": "d4f835e5f4f0eb56"
  },
  {
   "cell_type": "code",
   "execution_count": null,
   "outputs": [],
   "source": [
    "# Aggregating by 'cell_type' and 'sm_name' or 'donor_id'\n",
    "agg_func_meta = {'count_mean': 'mean', 'count_sum': 'sum', 'normalized_count_mean': 'mean', 'normalized_count_sum': 'sum'}\n",
    "adata_summary = adata_full.groupby(['cell_type', 'sm_name']).agg(agg_func_meta).reset_index()\n",
    "multiome_summary = multiome_full.groupby(['cell_type', 'donor_id']).agg(agg_func_meta).reset_index()"
   ],
   "metadata": {
    "collapsed": false
   },
   "id": "fdc50f330bd9d054"
  },
  {
   "cell_type": "code",
   "execution_count": null,
   "outputs": [],
   "source": [
    "adata_summary.head()"
   ],
   "metadata": {
    "collapsed": false
   },
   "id": "81facad10c70c12b"
  },
  {
   "cell_type": "code",
   "execution_count": null,
   "outputs": [],
   "source": [
    "multiome_summary.head()"
   ],
   "metadata": {
    "collapsed": false
   },
   "id": "b8741c364aef4f76"
  },
  {
   "cell_type": "code",
   "execution_count": null,
   "outputs": [],
   "source": [
    "feature_enriched = pd.DataFrame()"
   ],
   "metadata": {
    "collapsed": false
   },
   "id": "2a84579267228ee0"
  },
  {
   "cell_type": "code",
   "execution_count": null,
   "outputs": [],
   "source": [
    "features_enriched = pd.merge(features, adata_summary, on=['cell_type', 'sm_name'], how='left')\n",
    "features_enriched = pd.merge(features_enriched, multiome_summary, on=['cell_type'], how='left')  # Donor ID can be included if it aligns"
   ],
   "metadata": {
    "collapsed": false
   },
   "id": "e141146734cca884"
  },
  {
   "cell_type": "code",
   "execution_count": null,
   "outputs": [],
   "source": [
    "features_enriched['sm_name'] = features_enriched['sm_name'].replace('O-Demethylated Adapalene', 'O-Desmethyl Adapalene')\n",
    "# Rename sm_name IN1451 to 2-(4-Amino-5-iodo-7-pyrrolo[2,3-d]pyrimidinyl)-5-(hydroxymethyl)oxolane-3,4-diol\n",
    "features_enriched['sm_name'] = features_enriched['sm_name'].replace('IN1451',\n",
    "                                                                    '2-(4-Amino-5-iodo-7-pyrrolo[2,3-d]pyrimidinyl)-5-(hydroxymethyl)oxolane-3,4-diol')"
   ],
   "metadata": {
    "collapsed": false
   },
   "id": "9738787157aa2f3f"
  },
  {
   "cell_type": "code",
   "execution_count": null,
   "outputs": [],
   "source": [
    "features_enriched.head()"
   ],
   "metadata": {
    "collapsed": false
   },
   "id": "d38bf7cf38e1c65d"
  },
  {
   "cell_type": "markdown",
   "source": [
    "**Mean Counts** (```count_mean_x```, ```count_mean_y```): In transcriptomics, the mean count of gene expression can be a significant factor. Genes that are generally expressed more can be more easily regulated and have higher chances of being co-expressed with other genes. This concept is supported by statistical methods used in transcriptome analysis, such as edgeR or DESeq2, where mean expression levels serve as an essential element in the models (Robinson et al., 2010, Bioinformatics; Love et al., 2014, Genome Biology).\n",
    "\n",
    "**Sum Counts** (```count_sum_x```, ```count_sum_y```): The sum of counts could signify the overall activity level of the genome in different cells or under different conditions. A higher sum could mean that the cell is in a more \"active\" state. While this is a more aggregate measure, it can be useful when coupled with more specific measures.\n",
    "\n",
    "**Normalized Mean Counts** (```normalized_count_mean_x```, ```normalized_count_mean_y```): Gene expression is often normalized to make it comparable across samples. This is especially important when different samples have different sequencing depths. Normalization can be done in various ways, like Transcripts Per Million (TPM) or Fragments Per Kilobase Million (FPKM). These measures make data across samples directly comparable (Wagner et al., 2012, Theory in Biosciences).\n",
    "\n",
    "**Normalized Sum Counts** (```normalized_count_sum_x```, ```normalized_count_sum_y```): Just like the normalized mean, the sum of all normalized counts could provide an alternative measure of overall genetic activity, making it more comparable across different cells or conditions.\n",
    "\n",
    "**Comparing across datasets** (```adata_train``` vs ```multiome_train```): Different sequencing technologies or experimental conditions can result in subtle differences in gene expression profiles. Therefore, using features from both datasets might allow the model to capture nuances that could be missing if you relied on only one dataset (Stegle et al., 2015, Nature Reviews Genetics)."
   ],
   "metadata": {
    "collapsed": false
   },
   "id": "e40066424c749d92"
  },
  {
   "cell_type": "code",
   "execution_count": null,
   "outputs": [],
   "source": [
    "# Print column names of features_enriched\n",
    "print(\"features_enriched columns:\", features_enriched.columns)"
   ],
   "metadata": {
    "collapsed": false
   },
   "id": "405ac6b5d8507331"
  },
  {
   "cell_type": "code",
   "execution_count": null,
   "outputs": [],
   "source": [
    "final_prediction = pd.DataFrame(id_map, columns=[\"cell_type\", \"sm_name\"])"
   ],
   "metadata": {
    "collapsed": false
   },
   "id": "eed1f05411d2f217"
  },
  {
   "cell_type": "code",
   "execution_count": null,
   "outputs": [],
   "source": [
    "final_prediction.head()"
   ],
   "metadata": {
    "collapsed": false
   },
   "id": "6bb8e07032270f7c"
  },
  {
   "cell_type": "code",
   "execution_count": null,
   "outputs": [],
   "source": [
    "# features_enriched to csv\n",
    "features_enriched.to_csv('datasets/features_enriched.csv', index=False)"
   ],
   "metadata": {
    "collapsed": false
   },
   "id": "36597d9198a639fc"
  },
  {
   "cell_type": "code",
   "execution_count": null,
   "outputs": [],
   "source": [
    "final_prediction.to_csv('datasets/final_prediction.csv', index=False)"
   ],
   "metadata": {
    "collapsed": false
   },
   "id": "8886684a3e75e3b2"
  },
  {
   "cell_type": "code",
   "execution_count": null,
   "outputs": [],
   "source": [
    "targets"
   ],
   "metadata": {
    "collapsed": false
   },
   "id": "3f93192dd7f52fd3"
  },
  {
   "cell_type": "code",
   "execution_count": null,
   "outputs": [],
   "source": [],
   "metadata": {
    "collapsed": false
   },
   "id": "807cba6859c7c169"
  }
 ],
 "metadata": {
  "kernelspec": {
   "display_name": "Python 3",
   "language": "python",
   "name": "python3"
  },
  "language_info": {
   "codemirror_mode": {
    "name": "ipython",
    "version": 2
   },
   "file_extension": ".py",
   "mimetype": "text/x-python",
   "name": "python",
   "nbconvert_exporter": "python",
   "pygments_lexer": "ipython2",
   "version": "2.7.6"
  }
 },
 "nbformat": 4,
 "nbformat_minor": 5
}
